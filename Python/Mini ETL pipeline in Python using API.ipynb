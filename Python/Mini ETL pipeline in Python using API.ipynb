{
 "cells": [
  {
   "cell_type": "code",
   "execution_count": 0,
   "metadata": {
    "application/vnd.databricks.v1+cell": {
     "cellMetadata": {
      "byteLimit": 2048000,
      "rowLimit": 10000
     },
     "inputWidgets": {},
     "nuid": "b0b89bbb-e804-4591-981d-d46cc19d24c9",
     "showTitle": false,
     "tableResultSettingsMap": {},
     "title": ""
    }
   },
   "outputs": [],
   "source": [
    "import requests\n",
    "import csv\n",
    "\n",
    "\n",
    "def fetch_and_save_users(api_url,output_file):\n",
    "    \"\"\"Fetches users from the API and saves them to a CSV file\"\"\"\n",
    "\n",
    "    try:\n",
    "        #setp1\n",
    "        response = requests.get(api_url)\n",
    "        response.raise_for_status() #raise error if non-200\n",
    "\n",
    "        #step2\n",
    "        users = response.json()\n",
    "\n",
    "        #extract relevant fields and flatten nested field\n",
    "\n",
    "        parsed_data = []\n",
    "        for user in users:\n",
    "            parsed_data.append({\n",
    "                'id':user.get('id'),\n",
    "                'name':user.get('name'),\n",
    "                'username':user.get('username'),\n",
    "                'email':user.get('email'),\n",
    "                'city':user.get(\"address\",{}).get('city'),\n",
    "                'street':user.get(\"address\",{}).get('street'),\n",
    "                'zipcode':user.get(\"address\",{}).get('zipcode'),\n",
    "                'lat':user.get('address',{}).get('geo',{}).get('lat'),\n",
    "                'lng':user.get('address',{}).get('geo',{}).get('lng')\n",
    "            })\n",
    "\n",
    "        #step 3 : Write to csv\n",
    "        with open(output_file, mode='w', newline=\"\",encoding='utf-8') as file:\n",
    "            writer= csv.DictWriter(file,fieldnames=parsed_data[0].keys())\n",
    "            writer.writeheader()\n",
    "            writer.writerows(parsed_data)\n",
    "\n",
    "        print(f\"Data saved to {output_file}\")\n",
    "\n",
    "    except requests.exceptions.RequestException as e:\n",
    "        print(f\"Api Request failed:{e}\")\n",
    "    except Exception as e:\n",
    "        print(f\"Error:{e}\")\n",
    "\n",
    "api_url = \"https://jsonplaceholder.typicode.com/users\"\n",
    "output_file = 'Api_users.csv'\n",
    "fetch_and_save_users(api_url,output_file)"
   ]
  },
  {
   "cell_type": "code",
   "execution_count": 0,
   "metadata": {
    "application/vnd.databricks.v1+cell": {
     "cellMetadata": {
      "byteLimit": 2048000,
      "rowLimit": 10000
     },
     "inputWidgets": {},
     "nuid": "cbb95eee-0905-4838-8282-9710b299c3dc",
     "showTitle": false,
     "tableResultSettingsMap": {},
     "title": ""
    }
   },
   "outputs": [],
   "source": [
    "import pandas as pd\n",
    "\n",
    "df = pd.read_csv(\"/Workspace/Shared/Databricks/Python/Api_users.csv\")\n",
    "print(df.head())   # show first 5 rows\n"
   ]
  },
  {
   "cell_type": "code",
   "execution_count": 0,
   "metadata": {
    "application/vnd.databricks.v1+cell": {
     "cellMetadata": {},
     "inputWidgets": {},
     "nuid": "b8f518be-0cfe-4ee0-9e90-610ca295400b",
     "showTitle": false,
     "tableResultSettingsMap": {},
     "title": ""
    }
   },
   "outputs": [],
   "source": []
  }
 ],
 "metadata": {
  "application/vnd.databricks.v1+notebook": {
   "computePreferences": null,
   "dashboards": [],
   "environmentMetadata": {
    "base_environment": "",
    "environment_version": "3"
   },
   "inputWidgetPreferences": null,
   "language": "python",
   "notebookMetadata": {
    "pythonIndentUnit": 4
   },
   "notebookName": "Mini ETL pipeline in Python using API",
   "widgets": {}
  },
  "language_info": {
   "name": "python"
  }
 },
 "nbformat": 4,
 "nbformat_minor": 0
}
